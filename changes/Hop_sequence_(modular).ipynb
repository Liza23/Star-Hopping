{
  "nbformat": 4,
  "nbformat_minor": 0,
  "metadata": {
    "colab": {
      "name": "Hop_sequence (modular).ipynb",
      "provenance": [],
      "collapsed_sections": [],
      "authorship_tag": "ABX9TyPRQs9g3orwk+jf6VgZrF6N",
      "include_colab_link": true
    },
    "kernelspec": {
      "name": "python3",
      "display_name": "Python 3"
    }
  },
  "cells": [
    {
      "cell_type": "markdown",
      "metadata": {
        "id": "view-in-github",
        "colab_type": "text"
      },
      "source": [
        "<a href=\"https://colab.research.google.com/github/Liza23/Star-Hopping/blob/liza_branch/Hop_sequence_(modular).ipynb\" target=\"_parent\"><img src=\"https://colab.research.google.com/assets/colab-badge.svg\" alt=\"Open In Colab\"/></a>"
      ]
    },
    {
      "cell_type": "code",
      "metadata": {
        "id": "LHAIYVTUXuF7",
        "colab_type": "code",
        "colab": {}
      },
      "source": [
        "import math\n",
        "import pandas as pd"
      ],
      "execution_count": 1,
      "outputs": []
    },
    {
      "cell_type": "code",
      "metadata": {
        "id": "Be-PkexqRg90",
        "colab_type": "code",
        "colab": {}
      },
      "source": [
        "class Point():\n",
        "  def __init__(self, x, y):\n",
        "    self.x = x\n",
        "    self.y = y\n",
        "\n",
        "  def distance(self,b):\n",
        "    x_term = float(self.x) - float(b.x)\n",
        "    y_term = float(self.y) - float(b.y)\n",
        "    return math.sqrt((x_term * x_term) + (y_term * y_term))"
      ],
      "execution_count": 2,
      "outputs": []
    },
    {
      "cell_type": "code",
      "metadata": {
        "id": "zmhx6TRFzGol",
        "colab_type": "code",
        "colab": {}
      },
      "source": [
        "class hop_func():\n",
        "  \n",
        "  def __init__(self, limit_range, max_stars, limiting_brightness, x, y):\n",
        "    self.limit_range = limit_range\n",
        "    self.max_stars = max_stars\n",
        "    self.limiting_brightness = limiting_brightness\n",
        "    self.click = Point(x, y)\n",
        "\n",
        "  # the function list_star() returns a list of stars that lie \n",
        "  # within the sqaure formed with the click as center\n",
        "  \n",
        "  def list_stars(self, data):\n",
        "    stars_catalogue = pd.DataFrame(columns = ['star','ra','dec','brightness'])\n",
        "\n",
        "    l_x_limit = float(self.click.x) - self.limit_range\n",
        "    r_x_limit = float(self.click.x) + self.limit_range\n",
        "    l_y_limit = float(self.click.y) - self.limit_range\n",
        "    r_y_limit = float(self.click.y) + self.limit_range\n",
        "\n",
        "    data = data.sort_values(by = ['ra', 'dec'])\n",
        "  \n",
        "    for i in range(len(data)):    \n",
        "      while (data['ra'][i] > l_x_limit and data['ra'][i] < r_x_limit) and (data['dec'][i] > l_y_limit and data['dec'][i] < r_y_limit):\n",
        "        stars_catalogue = stars_catalogue.append({'star': data['star'][i], 'ra': data['ra'][i], 'dec': data['dec'][i], 'brightness': data['brightness'][i]}, ignore_index=True)\n",
        "        break\n",
        "\n",
        "    if len(stars_catalogue) >= self.max_stars:\n",
        "       stars_catalogue = stars_catalogue[stars_catalogue['brightness'] > self.limiting_brightness]\n",
        "\n",
        "    return stars_catalogue\n",
        "\n",
        "  # the function min_distance() will return the value of the nearest \n",
        "  # star to the clicks from the selected stars.  \n",
        "  \n",
        "  def min_distance(self, star_catalogue):\n",
        "    star_name = None\n",
        "\n",
        "    stars_point = []\n",
        "    # star_point is list of Point objects with ra as \n",
        "    # the x and dec as the y values of the star.\n",
        "    for i in range(len(star_catalogue)):\n",
        "      x = star_catalogue['ra'][i]\n",
        "      y = star_catalogue['dec'][i]\n",
        "      p = Point(x,y)\n",
        "      stars_point.append(p)\n",
        "  \n",
        "    try:\n",
        "      min_val = self.click.distance(stars_point[0])\n",
        "      min_star = stars_point[0]\n",
        "  \n",
        "      count = 0\n",
        "      # to keep a track of stars which are at a same value from our click\n",
        "  \n",
        "      for i in range(0, len(stars_point)):\n",
        "        if min_val >= self.click.distance(stars_point[i]):\n",
        "          min_val = self.click.distance(stars_point[i])\n",
        "          min_star = stars_point[i]\n",
        "          star_name = star_catalogue['star'][i]\n",
        "\n",
        "      for i in range(len(stars_point)):\n",
        "        if min_val == self.click.distance(stars_point[i]):\n",
        "          count += 1\n",
        "\n",
        "      assert(count == 1)\n",
        "      \n",
        "\n",
        "      return min_star, star_name\n",
        "  \n",
        "    except AssertionError:\n",
        "      print(\"Two or more stars found nearby! Try again\")\n",
        "      temp = Point(None, None)\n",
        "      return temp, None\n",
        "    \n",
        "    except IndexError:\n",
        "      print(\"No star found in the region you click! Try again\")\n",
        "      temp = Point(None, None)\n",
        "      return temp, None\n",
        "\n",
        "  # the function hop_near_click() returns the hopped star nearest to\n",
        "  # clicked point with \n",
        "  \n",
        "  def hop_near_click(self, star_catalogue, hops):\n",
        "    star_point, star_name = self.min_distance(star_catalogue)\n",
        "    hops = {'star': star_name, 'ra': star_point.x, 'dec': star_point.y}\n",
        "    return hops"
      ],
      "execution_count": 11,
      "outputs": []
    },
    {
      "cell_type": "code",
      "metadata": {
        "id": "e1zESCICdeRS",
        "colab_type": "code",
        "colab": {}
      },
      "source": [
        "# Driver code with temp data\n",
        "data = {'star': ['a', 'b', 'c', 'd'], 'ra': [100, 50, 400, 120], 'dec': [10, 20, 40, 20], 'brightness': [0.1, 0.2, 0.3, 0.4]}\n",
        "df = pd.DataFrame (data, columns = ['star','ra','dec','brightness'])"
      ],
      "execution_count": 5,
      "outputs": []
    },
    {
      "cell_type": "code",
      "metadata": {
        "id": "o4ccNyBNd6eX",
        "colab_type": "code",
        "colab": {
          "base_uri": "https://localhost:8080/",
          "height": 166
        },
        "outputId": "7d80bfe2-db3d-4b5a-ac0b-a14eedce51a3"
      },
      "source": [
        "df"
      ],
      "execution_count": 6,
      "outputs": [
        {
          "output_type": "execute_result",
          "data": {
            "text/html": [
              "<div>\n",
              "<style scoped>\n",
              "    .dataframe tbody tr th:only-of-type {\n",
              "        vertical-align: middle;\n",
              "    }\n",
              "\n",
              "    .dataframe tbody tr th {\n",
              "        vertical-align: top;\n",
              "    }\n",
              "\n",
              "    .dataframe thead th {\n",
              "        text-align: right;\n",
              "    }\n",
              "</style>\n",
              "<table border=\"1\" class=\"dataframe\">\n",
              "  <thead>\n",
              "    <tr style=\"text-align: right;\">\n",
              "      <th></th>\n",
              "      <th>star</th>\n",
              "      <th>ra</th>\n",
              "      <th>dec</th>\n",
              "      <th>brightness</th>\n",
              "    </tr>\n",
              "  </thead>\n",
              "  <tbody>\n",
              "    <tr>\n",
              "      <th>0</th>\n",
              "      <td>a</td>\n",
              "      <td>100</td>\n",
              "      <td>10</td>\n",
              "      <td>0.1</td>\n",
              "    </tr>\n",
              "    <tr>\n",
              "      <th>1</th>\n",
              "      <td>b</td>\n",
              "      <td>50</td>\n",
              "      <td>20</td>\n",
              "      <td>0.2</td>\n",
              "    </tr>\n",
              "    <tr>\n",
              "      <th>2</th>\n",
              "      <td>c</td>\n",
              "      <td>400</td>\n",
              "      <td>40</td>\n",
              "      <td>0.3</td>\n",
              "    </tr>\n",
              "    <tr>\n",
              "      <th>3</th>\n",
              "      <td>d</td>\n",
              "      <td>120</td>\n",
              "      <td>20</td>\n",
              "      <td>0.4</td>\n",
              "    </tr>\n",
              "  </tbody>\n",
              "</table>\n",
              "</div>"
            ],
            "text/plain": [
              "  star   ra  dec  brightness\n",
              "0    a  100   10         0.1\n",
              "1    b   50   20         0.2\n",
              "2    c  400   40         0.3\n",
              "3    d  120   20         0.4"
            ]
          },
          "metadata": {
            "tags": []
          },
          "execution_count": 6
        }
      ]
    },
    {
      "cell_type": "code",
      "metadata": {
        "id": "gllttmGK0VKs",
        "colab_type": "code",
        "colab": {}
      },
      "source": [
        "# uncomment these lines to load data and add original url as well\n",
        "# df = pd.read_csv('url')\n",
        "# df.head()"
      ],
      "execution_count": null,
      "outputs": []
    },
    {
      "cell_type": "code",
      "metadata": {
        "id": "SjZ8ssAmkEmP",
        "colab_type": "code",
        "colab": {}
      },
      "source": [
        "def save_hops():\n",
        "  hops = pd.DataFrame(columns = ['star','ra','dec'])\n",
        "  flag = True\n",
        "  while(flag):\n",
        "    x = input(\"x = \")\n",
        "    y = input(\"y = \")\n",
        "    flag = input(\"flag = \")\n",
        "    hop_stars = hop_func(50, 50 , 0.1, x, y)\n",
        "\n",
        "    stars_catalogue = hop_stars.list_stars(df)\n",
        "    hopped_star = hop_stars.hop_near_click(stars_catalogue, hops)\n",
        "    hops = hops.append(hopped_star, ignore_index = True)\n",
        "\n",
        "  return hops"
      ],
      "execution_count": 7,
      "outputs": []
    },
    {
      "cell_type": "code",
      "metadata": {
        "id": "IoKmWN3C_c4_",
        "colab_type": "code",
        "colab": {
          "base_uri": "https://localhost:8080/",
          "height": 167
        },
        "outputId": "0011defd-e348-4ed7-e1bb-a80f06cc0856"
      },
      "source": [
        "print(save_hops())"
      ],
      "execution_count": 12,
      "outputs": [
        {
          "output_type": "stream",
          "text": [
            "x = 100\n",
            "y = 12.5\n",
            "flag = 1\n",
            "x = 125\n",
            "y = 50\n",
            "flag = \n",
            "  star   ra dec\n",
            "0    a  100  10\n",
            "1    d  120  20\n"
          ],
          "name": "stdout"
        }
      ]
    },
    {
      "cell_type": "code",
      "metadata": {
        "id": "_4T3Yr1wsmUX",
        "colab_type": "code",
        "colab": {}
      },
      "source": [
        ""
      ],
      "execution_count": null,
      "outputs": []
    }
  ]
}
